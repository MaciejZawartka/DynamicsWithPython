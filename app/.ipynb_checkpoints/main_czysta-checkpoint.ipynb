{
 "cells": [
  {
   "cell_type": "markdown",
   "metadata": {},
   "source": [
    "Pisanie programu w języku Python wersji 3.6 oraz w nowszych, rozpoczynamy od zaimportowania potrzebnych bibliotek. "
   ]
  },
  {
   "cell_type": "code",
   "execution_count": 74,
   "metadata": {},
   "outputs": [],
   "source": [
    "# DEKLARACJA BIBLIOTEK\n",
    "import numpy as np    #obliczenia numeryczne, operacje na macierzach\n",
    "from math import sin, cos, pi    #funkcje uzyte do wymuszen, wartosc liczby Pi\n",
    "from scipy.linalg import eigh         #analiza harmoniczna \n",
    "from numpy.linalg import inv          #odwracanie macierzy   \n",
    "from matplotlib import pyplot as plot #rysowanie wykresow\n"
   ]
  },
  {
   "cell_type": "code",
   "execution_count": 78,
   "metadata": {},
   "outputs": [],
   "source": [
    "# Funkcje wlasne\n",
    "\n",
    "# Zdefiniowanie parametrow\n",
    "\n",
    "# Budowanie macierzy\n",
    "\n",
    "# Numeryczne calkowanie rownan ruchu\n",
    "\n",
    "# Wizualizacja wynikow"
   ]
  },
  {
   "cell_type": "code",
   "execution_count": null,
   "metadata": {},
   "outputs": [],
   "source": [
    "# Funkcje wlasne\n",
    "\n",
    "# Zdefiniowanie parametrow\n",
    "\n",
    "# Budowanie macierzy\n",
    "\n",
    "# Numeryczne calkowanie rownan ruchu\n",
    "\n",
    "# Wizualizacja wynikow"
   ]
  },
  {
   "cell_type": "markdown",
   "metadata": {},
   "source": [
    "Przejdźmy teraz do zdefiniowania pierwszej funkcji w sekcji #Funkcje wlasne. Będzie to funkcja opisujaca profil drogi. Na podstawie parametrów zadanych w czasie wywołania będzie zwracała funkcję opisującą wymuszenia. Definicja funkcji jest niebywale prosta. Należy jednak pamiętać o kilku zasadach. Definicję rozpoczynamy od słowa 'def'. Dalej po spacji podajemy nazwę funkcji, przy pomocy której będziemy ją wywoływać. Musi spełniać ona ogólne wymogi dotyczące nazw zmiennych oraz funkcji w języku Python. W nawiasie znajdować się będą parametry, które zostaną podane w czasie wywołania funkcji. W poniższym przykładzie jest to zmienna _a_. Koniecznie należy pamiętać o zakończeniu nagłówka funkcji, którym jest znak \":\". Instrukcje wewnątrz pętli muszą rozpoczynać się od wcięcia na jeden tabulator (4 spacje). Jest to podstawa składni języka Python, która odróżnia go od innych języków. Wcięcia w tekście służą do porządkowania kodu i są wymagane do poprawnego działania programu. Definicja funkcji, która zwraca jakąś wielkość zakończona jest poleceniem \"return\"."
   ]
  },
  {
   "cell_type": "code",
   "execution_count": null,
   "metadata": {},
   "outputs": [],
   "source": [
    "# Funkcje wlasne\n",
    "def profil_drogi(a1, a2, T1, T2, v, T):\n",
    "    #Zwraca funkcje poliharmoniczna na podstawie wektora czasu\n",
    "    #Input:    a1,T1 - amplituda i okres pierwszej skladowej wymuszenia\n",
    "    #          a2,T2 - amplituda i okres drugiej skladowej wymuszenia\n",
    "    #          v     - predkosc pojazdu\n",
    "    #          ds, dt- krok dla czasu i dla drogi\n",
    "    #          T     - wektor czasu symulacji\n",
    "    result = np.zeros(( np.size(T)))     #tworzenie macierzy wynikowej\n",
    "    #przypisywanie profilu drogi z uwzględnieniem plaskiego poczatku\n",
    "    \n",
    "    \n",
    "    for i in range(np.size(T)-1):\n",
    "        if (T[i] < T1):\n",
    "            result[i] = 0\n",
    "        else:\n",
    "            result[i] = a1* sin(2* pi/T1*T[i]) + a2* sin (2*pi/T2*T[i])\n",
    "    return result"
   ]
  },
  {
   "cell_type": "markdown",
   "metadata": {},
   "source": [
    "Powyższa funkcja przypisuje wektorowi czasu"
   ]
  },
  {
   "cell_type": "markdown",
   "metadata": {},
   "source": [
    "Właściwe programowanie rozpoczniemy od definiowania zmiennych. Funkcje zostaną dodane później. Definiowanie funkcji na początku programu pomaga odnaleźć je w przypadku chęci zrozumienia ich działania."
   ]
  },
  {
   "cell_type": "code",
   "execution_count": 79,
   "metadata": {},
   "outputs": [],
   "source": [
    "# Zdefiniowanie parametrow\n",
    "Mzred = 9000\n",
    "Jzred = 20000\n",
    "k = 12500\n",
    "b = 200\n",
    "L1 = 0.45\n",
    "L2 = 1.35 \n",
    "dof = 2\n",
    "vkm = 10.0 #predkosc pojazdu\n",
    "t0 = 0.0   #poczatek symulacji\n",
    "tk = 60.0 #koniec symulacji\n",
    "ds = 0.01 #kork podziału drogi"
   ]
  },
  {
   "cell_type": "markdown",
   "metadata": {},
   "source": [
    "Są to wielkości pierwotne- wprowadzane przez użytkownika, opisujące badany obiekt oraz jego otocznenie mające na ten obiekt wpływ. W analizowanym przypadku, ów wpływ opisywany będzie jako nierówność terenu. Poczynione zostało założenie, że krążki nośne zawieszenia pojazdu nie odrywają się od podłoża, a przebieg terenu drogi odpowiada przemieszczeniom środków krążków. W tym celu musimy wykonać dodatkowe obliczenia. Rozpoczniemy od przeliczenia prędkości pojazdu z _[km/h]_ na _[m/s]_:"
   ]
  },
  {
   "cell_type": "code",
   "execution_count": 80,
   "metadata": {},
   "outputs": [
    {
     "name": "stdout",
     "output_type": "stream",
     "text": [
      "2.7777777777777777\n"
     ]
    }
   ],
   "source": [
    "v = vkm * 1000 / 3600\n",
    "print(v)"
   ]
  },
  {
   "cell_type": "markdown",
   "metadata": {},
   "source": [
    "Skoro środki krążków, będą się przemieszczały według profilu drogi, musimy tak dobrać krok czasowy symulacji, aby w każdej chwili czasowej symulacji _t_ należącej do wektora T∈(0, Tk) można było odczytać pozycję środka krążka. W tym celu, krok czasowy wyliczymy biorąc pod uwagę prędkość przemieszaczania się pojazdu oraz krok podziału drogi, przyjęte podczas deklarowania zmiennych. Wykorzystany zostanie wzór v = s/t"
   ]
  },
  {
   "cell_type": "code",
   "execution_count": 81,
   "metadata": {},
   "outputs": [
    {
     "name": "stdout",
     "output_type": "stream",
     "text": [
      "0.0036000000000000003\n"
     ]
    }
   ],
   "source": [
    "dt = ds / v\n",
    "print(dt)"
   ]
  },
  {
   "cell_type": "markdown",
   "metadata": {},
   "source": [
    "Z punktu widzenia symulacji krok czasowy stanowi ważną zmienną mającą wpływ na poprawność wyniku oraz czas wykonywania się obliczeń. __tutaj dodać rysunek wykresu czas symulacji, liczba elementów i dokładność__"
   ]
  },
  {
   "cell_type": "markdown",
   "metadata": {},
   "source": [
    " Uważni czytelnicy na pewno zauważyli, że na krok czasowy _dt_ wpływ mają prędkość pojazdu oraz krok dyskretyzacji drogi, czyli zmienne definiowane przez programistę. Jeśli _v_ jest prędkością określoną przez konkrente zagadnienie, to jedynym parametrem sterującym zostaje krok dyskretyzacji drogi."
   ]
  },
  {
   "cell_type": "markdown",
   "metadata": {},
   "source": [
    "Teraz już na podstawie otrzymanych danych możemy zdefiniować wektor czasu trwania symulacji __T__ . Wykorzystana do tego celu zostanie instrukcja arange pochodząca z biblioteki NumPy. Przyjżyjmy się sposobie jej deklaracji w dokumentacji biblioteki: tutaj rysunek screen czy coś z linka. Tworzy on wektor rozpoczynając od wartości _t0_ stosując krok _dt_ do wartości końcowej _tk_, przy czym nie zawiera ostatniej wartości. Stąd do warunku końca dodamy jednokrotność _dt_."
   ]
  },
  {
   "cell_type": "code",
   "execution_count": 82,
   "metadata": {},
   "outputs": [
    {
     "name": "stdout",
     "output_type": "stream",
     "text": [
      "[0.00000e+00 3.60000e-03 7.20000e-03 ... 5.99940e+01 5.99976e+01\n",
      " 6.00012e+01]\n"
     ]
    }
   ],
   "source": [
    "T = np.arange(t0, tk+dt, dt, dtype = float )\n",
    "print(T)"
   ]
  },
  {
   "cell_type": "markdown",
   "metadata": {},
   "source": [
    "Ostatni wyraz macierzy przekracza nieznacznie czas, który założyliśmy. Wynika to z błędu reprezentacji liczb przez komputer. Wartość _tk_ jest przekroczona znacznie mniej niż wynosi krok _dt_ więc, zastosujemy przypisanie wartości do ostatniej komórki macierzy, stosująć indeksowanie z minusem."
   ]
  },
  {
   "cell_type": "code",
   "execution_count": 83,
   "metadata": {},
   "outputs": [
    {
     "name": "stdout",
     "output_type": "stream",
     "text": [
      "[0.00000e+00 3.60000e-03 7.20000e-03 ... 5.99940e+01 5.99976e+01\n",
      " 6.00000e+01]\n",
      "16668\n"
     ]
    }
   ],
   "source": [
    "T[-1] = tk\n",
    "print(T)\n",
    "print(np.size(T))"
   ]
  },
  {
   "cell_type": "markdown",
   "metadata": {},
   "source": [
    "Środki krążków są odpowiednio oddalone od środka ciężkości o długości _L1_ oraz _L2_. Co za tym idzie mają kontakt z podłożem w różnych miejscach w jednej chwili czasowej. W związku z tym należy wyznaczyć przesunięcie między kolejnymi próbkami, które należy odczytać dla danego krążka: __dodać rysunek z ideą__"
   ]
  },
  {
   "cell_type": "code",
   "execution_count": 84,
   "metadata": {},
   "outputs": [
    {
     "name": "stdout",
     "output_type": "stream",
     "text": [
      "100\n"
     ]
    }
   ],
   "source": [
    "phase = round ((L2-L1)/ds)\n",
    "print(phase)"
   ]
  },
  {
   "cell_type": "markdown",
   "metadata": {},
   "source": [
    "Język Python sam rozpoznaje typ danych, jakiego chcemy użyć. W Internecie dostępnych jest wiele opracowań typów danych języka Python, stąd nie będą one omawiane w tym artykule. Warto jednak wspomnieć o sposobie na wymuszenie typu danych float w miejscu gdzie interpreter oraz kompilator zdecydowały by się na liczbę całkowitą. Wystarczy dodać po wartości \".0\". Tak w języku Python jako separator dziesiętny używamy kropki '.'. Typ danych można sprawdzić wywołując polecenie:"
   ]
  },
  {
   "cell_type": "code",
   "execution_count": 85,
   "metadata": {},
   "outputs": [
    {
     "data": {
      "text/plain": [
       "float"
      ]
     },
     "execution_count": 85,
     "metadata": {},
     "output_type": "execute_result"
    }
   ],
   "source": [
    "type(Mzred)"
   ]
  },
  {
   "cell_type": "markdown",
   "metadata": {},
   "source": [
    "Na podstawie obliczonych przez równań (dodać odnośnik do równań) zaimplementujemy teraz macierze w naszym programie. Przypomnijmy oznaczenia M - macierz mas i bezwładności, K - macierz sprężystości, B - macierz tłumienia, F - macierz wyrażeń wolnych I- macierz jednostkowa. Do implementacji macierzy posłużymy się biblioteką NumPy. Przypomnijmy, że nadalismy jej alias \"np\". Stąd macierz mas i bezwładności przyjmie postać:"
   ]
  },
  {
   "cell_type": "code",
   "execution_count": 86,
   "metadata": {},
   "outputs": [
    {
     "name": "stdout",
     "output_type": "stream",
     "text": [
      "[[1. 0.]\n",
      " [0. 1.]]\n"
     ]
    }
   ],
   "source": [
    "M = np.array([[Mzred    ,   0],[0    , Jzred]])   #budowanie macierzy mas i bezwladnosci\n",
    "print(M)"
   ]
  },
  {
   "cell_type": "markdown",
   "metadata": {},
   "source": [
    "Przyjrzymy się temu poleceniu. Początek instrukcji \"np.array()\" odwołuję się do funkcjonalności biblioteki NumPy i każde odnaleźć polecenie \"array\", które tworzy macierz na podstawie dostarczonych danych. Więcej o tej metodzie możesz przeczytać tutaj: https://docs.scipy.org/doc/numpy/reference/generated/numpy.array.html. Następnie, wewnątrz okrągłego nawiasu mamy dwa nawiasy kwadratowe. Patrząc szerzej zauważysz, że są one użyte w następującym ułożeniu: \"[  []  , []  ]\". Wewnętrzne nawiasy określają zakres jednego wiersza i przedzielone są przecinkiem. Zewnętrzny nawias określa cała macierz. Wewnętrzne nawiasy zawierają poszeczególne elementy macierzy. Jeśli na tym etapie pojawił Ci się błąd, sprawdź czy zgadza Ci się liczba nawiasów. Większość edytorów tekstu ze sprawdzaniem składni języka Python podpowiada, który nawias nie ma pary."
   ]
  },
  {
   "cell_type": "markdown",
   "metadata": {},
   "source": [
    "W identyczny sposób zbudowane zostają pozostałe macierze:"
   ]
  },
  {
   "cell_type": "code",
   "execution_count": 87,
   "metadata": {},
   "outputs": [],
   "source": [
    "K = np.array( [    [4 * k, 0],[0, 2*k * (L1**2) + 2*k * (L2**2)  ]   ] )\n",
    "B = np.array( [    [4 * b, 0],[0, 2*b * (L1**2) + 2*b * (L2**2)  ]   ] )\n",
    "D = np.array( [[k*(y1 + y2 + y3 + y4)],[k *(-y1*L1  - y2*L2   +   y3 * L2   +   y4*L1)]])\n",
    "I = np.identity(dof)"
   ]
  },
  {
   "cell_type": "code",
   "execution_count": null,
   "metadata": {},
   "outputs": [],
   "source": [
    "\n"
   ]
  },
  {
   "cell_type": "code",
   "execution_count": null,
   "metadata": {},
   "outputs": [],
   "source": []
  },
  {
   "cell_type": "code",
   "execution_count": null,
   "metadata": {},
   "outputs": [],
   "source": []
  },
  {
   "cell_type": "markdown",
   "metadata": {},
   "source": [
    "O ile znak dodawania + oraz mnożenia * jest taki sam jak w znacznej większości języków programowania, to szczególną uwage należy zwrócić na znak podnoszenia do potęgi. W języku Python wykorzystywany jest ** zamiast powszechnie używanego \"^\". "
   ]
  },
  {
   "cell_type": "markdown",
   "metadata": {},
   "source": []
  },
  {
   "cell_type": "code",
   "execution_count": 88,
   "metadata": {},
   "outputs": [],
   "source": [
    "\n"
   ]
  },
  {
   "cell_type": "code",
   "execution_count": 92,
   "metadata": {},
   "outputs": [],
   "source": [
    "A = profil_drogi(2, 0.05, 10 , 1, v, T)\n",
    "#plot(T,A)"
   ]
  },
  {
   "cell_type": "code",
   "execution_count": 93,
   "metadata": {},
   "outputs": [
    {
     "data": {
      "image/png": "[encoded data removed]",
      "text/plain": [
       "<Figure size 432x288 with 1 Axes>"
      ]
     },
     "metadata": {
      "needs_background": "light"
     },
     "output_type": "display_data"
    }
   ],
   "source": [
    "fig, ax = plot.subplots()\n",
    "ax.plot(T, A)\n",
    "ax.axis('equal')\n",
    "ax.set(xlabel='time (s)', ylabel='voltage (mV)',\n",
    "       title='Profil drogi')\n",
    "ax.grid()\n",
    "\n",
    "#fig.savefig(\"test.png\")\n",
    "plot.show()"
   ]
  },
  {
   "cell_type": "code",
   "execution_count": null,
   "metadata": {},
   "outputs": [],
   "source": []
  },
  {
   "cell_type": "code",
   "execution_count": null,
   "metadata": {},
   "outputs": [],
   "source": []
  }
 ],
 "metadata": {
  "kernelspec": {
   "display_name": "Python 3",
   "language": "python",
   "name": "python3"
  },
  "language_info": {
   "codemirror_mode": {
    "name": "ipython",
    "version": 3
   },
   "file_extension": ".py",
   "mimetype": "text/x-python",
   "name": "python",
   "nbconvert_exporter": "python",
   "pygments_lexer": "ipython3",
   "version": "3.7.0"
  }
 },
 "nbformat": 4,
 "nbformat_minor": 2
}
