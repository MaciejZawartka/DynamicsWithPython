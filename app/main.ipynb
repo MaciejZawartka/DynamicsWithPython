{
 "cells": [
  {
   "cell_type": "markdown",
   "metadata": {},
   "source": [
    "Pisanie programu w języku Python wersji 3.6 oraz w nowszych, rozpoczynamy od zaimportowania potrzebnych bibliotek. "
   ]
  },
  {
   "cell_type": "code",
   "execution_count": 4,
   "metadata": {},
   "outputs": [],
   "source": [
    "# DEKLARACJA BIBLIOTEK\n",
    "import numpy as np    #obliczenia numeryczne, operacje na macierzach"
   ]
  },
  {
   "cell_type": "markdown",
   "metadata": {},
   "source": [
    "Biblioteka NumPy (z ang. Numeric Python) to podstawowy zestaw narzędzi inyżnierskich języka Python wspomagającym zaawasowane obliczenia numeryczne, w szczególności operacje na macierzach. W powyższej linijce kodu zaimporotwana została biblioteka \"numpy\" do naszego programu. Używanie nazwy \"numpy\" w kodzie, przy częstym jej wystepowaniu może być uciążliwe. Stąd zastosowany został alias \"np\". Dzięki niemu, możemy precyzować w kodzie, że dana funkcja lub metoda ma być zaimporotwana z biblioteki numpy. Sam sposób odwoływania sie przy pomocy aliasu będzie wyjaśniony później. Powyższą linijkę można dosłownie rozumieć jako \"Python, zaimportuj bibliotekę NumPy oraz nadaj jej pseudonim np\". Warto tutaj wspomnieć o własności języka Python jaką jest rozróżnianie wielkości liter (z ang. Case sensitivity). Próba zaimporotowania biblioteki NumPy z użyciem dużych i małych liter spowoduje powstanie błędu przedstawionego poniżej. https://docs.scipy.org/doc/numpy/reference/"
   ]
  },
  {
   "cell_type": "code",
   "execution_count": 5,
   "metadata": {},
   "outputs": [
    {
     "ename": "ModuleNotFoundError",
     "evalue": "No module named 'NumPy'",
     "output_type": "error",
     "traceback": [
      "\u001b[1;31m---------------------------------------------------------------------------\u001b[0m",
      "\u001b[1;31mModuleNotFoundError\u001b[0m                       Traceback (most recent call last)",
      "\u001b[1;32m<ipython-input-5-ec0b775bee05>\u001b[0m in \u001b[0;36m<module>\u001b[1;34m()\u001b[0m\n\u001b[1;32m----> 1\u001b[1;33m \u001b[1;32mimport\u001b[0m \u001b[0mNumPy\u001b[0m \u001b[1;32mas\u001b[0m \u001b[0mnp\u001b[0m\u001b[1;33m\u001b[0m\u001b[0m\n\u001b[0m",
      "\u001b[1;31mModuleNotFoundError\u001b[0m: No module named 'NumPy'"
     ]
    }
   ],
   "source": [
    "import NumPy as np"
   ]
  },
  {
   "cell_type": "code",
   "execution_count": 6,
   "metadata": {},
   "outputs": [],
   "source": [
    "from math import sin, cos, pi    #funkcje uzyte do wymuszen, wartosc liczby Pi"
   ]
  },
  {
   "cell_type": "markdown",
   "metadata": {},
   "source": [
    "W przypadku, w którym wiemy dokładnie co chcemy zaimportować z danej biblioteki, możemy odwołać się do konkretnej funkcjonalności. Tak jest właśnie w przypadku kolejnej linii kodu. Z biblioteki math importujemy funkcje odpowiedzialne za wygenerowanie przebiegów sinusa i cosinusa. W tym przypadku nie nadajemy żadnego aliasu. https://docs.python.org/3/library/math.html."
   ]
  },
  {
   "cell_type": "markdown",
   "metadata": {},
   "source": [
    "Dobrym nawykiem początkującego programisty jest używanie komentarzy. W języku Python komentarz jest dodawany poprzez użycie symbolu \"#\". Kompilator pomija znaki znajdujące się po tym symbolu. W naszym przypadku został dodany komentarz informujacy do czego użyta zostanie dana biblioteka. Pomaga to na etapie \"czyszczenia kodu\", gdzie po wypróbowaniu kilku bibliotek, zdecydujemy się w końcu na którąś i będziemy chcieli inne (niewykorzystane) usunąć."
   ]
  },
  {
   "cell_type": "markdown",
   "metadata": {},
   "source": [
    "Do naszego programu potrzebne jeszcze będą poniższe biblioteki. W sposób skrócony ich funkcjonalność opisują komentarze. Na etapie wyboru bibliotek warto jest zapoznać się z ich funkcjonalnościami. Szczegółowe informacje można znaleźć wpisując w wyszukiwarkę nazwę biblioteki oraz słowo \"reference\". Przykładowe strony użytych bibliotek:\n",
    "https://docs.python.org/3/library/math.html\n",
    "https://docs.scipy.org/doc/numpy/reference/\n",
    "https://matplotlib.org\n"
   ]
  },
  {
   "cell_type": "code",
   "execution_count": null,
   "metadata": {
    "scrolled": true
   },
   "outputs": [],
   "source": []
  },
  {
   "cell_type": "code",
   "execution_count": 7,
   "metadata": {},
   "outputs": [],
   "source": [
    "from scipy.linalg import eigh         #analiza harmoniczna \n",
    "from numpy.linalg import inv          #odwracanie macierzy   \n",
    "from matplotlib import pyplot as plot #rysowanie wykresow"
   ]
  },
  {
   "cell_type": "markdown",
   "metadata": {},
   "source": [
    "Zdefiniujemy teraz konstrukcję naszego programu używając komentarzy:"
   ]
  },
  {
   "cell_type": "code",
   "execution_count": 8,
   "metadata": {},
   "outputs": [],
   "source": [
    "# Funkcje wlasne\n",
    "\n",
    "# Zdefiniowanie parametrow\n",
    "\n",
    "# Budowanie macierzy\n",
    "\n",
    "# Numeryczne calkowanie rownan ruchu\n",
    "\n",
    "# Wizualizacja wynikow"
   ]
  },
  {
   "cell_type": "markdown",
   "metadata": {},
   "source": [
    "Właściwe programowanie rozpoczniemy od definiowania zmiennych. Funkcje zostaną dodane później. Definiowanie funkcji na początku programu pomaga odnaleźć je w przypadku chęci zrozumienia ich działania."
   ]
  },
  {
   "cell_type": "code",
   "execution_count": 9,
   "metadata": {},
   "outputs": [],
   "source": [
    "Mzred = 1.0\n",
    "Jzred = 1.0\n",
    "k = 1.0\n",
    "b = 0.50\n",
    "L1 = 1.0\n",
    "L2 = 2.0 \n",
    "y1 = 0.0\n",
    "y2 = 0.1\n",
    "y3 = 0.3\n",
    "y4 = 0.4\n",
    "dof = 2\n",
    "v = 10.0 #predkosc pojazdu\n",
    "t0 = 0   #poczatek symulacji\n",
    "tk = 60.0 #koniec symulacji\n",
    "dt = 0.001 #krok czasowy symulacji\n",
    "\n"
   ]
  },
  {
   "cell_type": "markdown",
   "metadata": {},
   "source": [
    "Język Python sam rozpoznaje typ danych, jakiego chcemy użyć. W Internecie dostępnych jest wiele opracowań typów danych języka Python, stąd nie będą one omawiane w tym artykule. Warto jednak wspomnieć o sposobie na wymuszenie typu danych float w miejscu gdzie interpreter oraz kompilator zdecydowały by się na liczbę całkowitą. Wystarczy dodać po wartości \".0\". Tak w języku Python jako separator dziesiętny używamy kropki '.'. Typ danych można sprawdzić wywołując polecenie:"
   ]
  },
  {
   "cell_type": "code",
   "execution_count": 10,
   "metadata": {},
   "outputs": [
    {
     "data": {
      "text/plain": [
       "float"
      ]
     },
     "execution_count": 10,
     "metadata": {},
     "output_type": "execute_result"
    }
   ],
   "source": [
    "type(Mzred)"
   ]
  },
  {
   "cell_type": "markdown",
   "metadata": {},
   "source": [
    "Na podstawie obliczonych przez równań (dodać odnośnik do równań) zaimplementujemy teraz macierze w naszym programie. Przypomnijmy oznaczenia M - macierz mas i bezwładności, K - macierz sprężystości, B - macierz tłumienia, F - macierz wyrażeń wolnych I- macierz jednostkowa. Do implementacji macierzy posłużymy się biblioteką NumPy. Przypomnijmy, że nadalismy jej alias \"np\". Stąd macierz mas i bezwładności przyjmie postać:"
   ]
  },
  {
   "cell_type": "code",
   "execution_count": 11,
   "metadata": {},
   "outputs": [
    {
     "name": "stdout",
     "output_type": "stream",
     "text": [
      "[[1. 0.]\n",
      " [0. 1.]]\n"
     ]
    }
   ],
   "source": [
    "M = np.array([[Mzred    ,   0],[0    , Jzred]])   #budowanie macierzy mas i bezwladnosci\n",
    "print(M)"
   ]
  },
  {
   "cell_type": "markdown",
   "metadata": {},
   "source": [
    "Przyjrzymy się temu poleceniu. Początek instrukcji \"np.array()\" odwołuję się do funkcjonalności biblioteki NumPy i każde odnaleźć polecenie \"array\", które tworzy macierz na podstawie dostarczonych danych. Więcej o tej metodzie możesz przeczytać tutaj: https://docs.scipy.org/doc/numpy/reference/generated/numpy.array.html. Następnie, wewnątrz okrągłego nawiasu mamy dwa nawiasy kwadratowe. Patrząc szerzej zauważysz, że są one użyte w następującym ułożeniu: \"[  []  , []  ]\". Wewnętrzne nawiasy określają zakres jednego wiersza i przedzielone są przecinkiem. Zewnętrzny nawias określa cała macierz. Wewnętrzne nawiasy zawierają poszeczególne elementy macierzy. Jeśli na tym etapie pojawił Ci się błąd, sprawdź czy zgadza Ci się liczba nawiasów. Większość edytorów tekstu ze sprawdzaniem składni języka Python podpowiada, który nawias nie ma pary."
   ]
  },
  {
   "cell_type": "markdown",
   "metadata": {},
   "source": [
    "W identyczny sposób zbudowane zostają pozostałe macierze:"
   ]
  },
  {
   "cell_type": "code",
   "execution_count": 12,
   "metadata": {},
   "outputs": [
    {
     "name": "stdout",
     "output_type": "stream",
     "text": [
      "[[ 4.  0.]\n",
      " [ 0. 10.]]\n"
     ]
    }
   ],
   "source": [
    "K = np.array( [    [4 * k, 0],[0, 2*k * (L1**2) + 2*k * (L2**2)  ]   ] )\n",
    "print(K)"
   ]
  },
  {
   "cell_type": "code",
   "execution_count": 13,
   "metadata": {},
   "outputs": [
    {
     "name": "stdout",
     "output_type": "stream",
     "text": [
      "[[2. 0.]\n",
      " [0. 5.]]\n"
     ]
    }
   ],
   "source": [
    "B = np.array( [    [4 * b, 0],[0, 2*b * (L1**2) + 2*b * (L2**2)  ]   ] )\n",
    "print(B)"
   ]
  },
  {
   "cell_type": "code",
   "execution_count": 14,
   "metadata": {},
   "outputs": [
    {
     "name": "stdout",
     "output_type": "stream",
     "text": [
      "[[0.8]\n",
      " [0.8]]\n"
     ]
    }
   ],
   "source": [
    "D = np.array( [[k*(y1 + y2 + y3 + y4)],[k *(-y1*L1  - y2*L2   +   y3 * L2   +   y4*L1)]])\n",
    "print(D)"
   ]
  },
  {
   "cell_type": "code",
   "execution_count": 15,
   "metadata": {},
   "outputs": [
    {
     "name": "stdout",
     "output_type": "stream",
     "text": [
      "[[1. 0.]\n",
      " [0. 1.]]\n"
     ]
    }
   ],
   "source": [
    "I = np.identity(dof)\n",
    "print(I)"
   ]
  },
  {
   "cell_type": "code",
   "execution_count": 16,
   "metadata": {},
   "outputs": [
    {
     "name": "stdout",
     "output_type": "stream",
     "text": [
      "[0.0000e+00 1.0000e-03 2.0000e-03 ... 5.9998e+01 5.9999e+01 6.0000e+01]\n"
     ]
    }
   ],
   "source": [
    "T = np.arange(t0,tk+dt,dt)    #Obliczanie wektora czasu symulacji\n",
    "print(T)"
   ]
  },
  {
   "cell_type": "markdown",
   "metadata": {},
   "source": [
    "O ile znak dodawania + oraz mnożenia * jest taki sam jak w znacznej większości języków programowania, to szczególną uwage należy zwrócić na znak podnoszenia do potęgi. W języku Python wykorzystywany jest ** zamiast powszechnie używanego \"^\". "
   ]
  },
  {
   "cell_type": "markdown",
   "metadata": {},
   "source": [
    "Przejdźmy teraz do zdefiniowania pierwszej funkcji w sekcji #Funkcje wlasne. Będzie to funkcja opisujaca profil drogi. Na podstawie parametrów zadanych w czasie wywołania będzie zwracała funkcję opisującą wymuszenia. Definicja funkcji jest niebywale prosta. Należy jednak pamiętać o kilku zasadach. Definicję rozpoczynamy od słowa 'def'. Dalej po spacji podajemy nazwę funkcji, przy pomocy której będziemy ją wywoływać. Musi spełniać ona ogólne wymogi dotyczące nazw zmiennych oraz funkcji w języku Python. W nawiasie znajdować się będą parametry, które zostaną podane w czasie wywołania funkcji. W poniższym przykładzie jest to zmienna a. Koniecznie należy pamiętać o zakończeniu nagłówka funkcji, którym jest znak \":\". Instrukcje wewnątrz pętli muszą rozpoczynać się od wcięcia na jeden tabulator (4 spacje). Jest to podstawa składni języka Python, która odróżnia go od innych języków. Wcięcia w tekście służą do porządkowania kodu i są wymagane do poprawnego działania programu. Definicja funkcji, która zwraca jakąś wielkość zakończona jest poleceniem \"return\"."
   ]
  },
  {
   "cell_type": "code",
   "execution_count": 17,
   "metadata": {},
   "outputs": [],
   "source": [
    "def profil_drogi(a1, a2, T1, T2, v, T):\n",
    "    #Zwraca funkcje poliharmoniczna na podstawie wektora czasu\n",
    "    #Input:    a1,T1 - amplituda i okres pierwszej skladowej wymuszenia\n",
    "    #          a2,T2 - amplituda i okres drugiej skladowej wymuszenia\n",
    "    #          v     - predkosc pojazdu\n",
    "    #          ds, dt- krok dla czasu i dla drogi\n",
    "    #          T     - wektor czasu symulacji\n",
    "    result = np.zeros(( np.size(T)))     #tworzenie macierzy wynikowej\n",
    "    #przypisywanie profilu drogi z uwzględnieniem plaskiego poczatku\n",
    "    \n",
    "    \n",
    "    for i in range(np.size(T)-1):\n",
    "        if (T[i] < T1):\n",
    "            result[i] = 0\n",
    "        else:\n",
    "            result[i] = a1* sin(2* pi/T1*T[i]) + a2* sin (2*pi/T2*T[i])\n",
    "    return result\n"
   ]
  },
  {
   "cell_type": "code",
   "execution_count": 18,
   "metadata": {},
   "outputs": [],
   "source": [
    "A = profil_drogi(0.2, 0.05, 3 , 1, v, T)\n",
    "#plot(T,A)"
   ]
  },
  {
   "cell_type": "code",
   "execution_count": 19,
   "metadata": {},
   "outputs": [
    {
     "data": {
      "image/png": "[encoded data removed]",
      "text/plain": [
       "<Figure size 432x288 with 1 Axes>"
      ]
     },
     "metadata": {
      "needs_background": "light"
     },
     "output_type": "display_data"
    }
   ],
   "source": [
    "fig, ax = plot.subplots()\n",
    "ax.plot(T, A)\n",
    "ax.axis('equal')\n",
    "ax.set(xlabel='time (s)', ylabel='voltage (mV)',\n",
    "       title='Profil drogi')\n",
    "ax.grid()\n",
    "\n",
    "#fig.savefig(\"test.png\")\n",
    "plot.show()"
   ]
  },
  {
   "cell_type": "code",
   "execution_count": null,
   "metadata": {},
   "outputs": [],
   "source": []
  }
 ],
 "metadata": {
  "kernelspec": {
   "display_name": "Python 3",
   "language": "python",
   "name": "python3"
  },
  "language_info": {
   "codemirror_mode": {
    "name": "ipython",
    "version": 3
   },
   "file_extension": ".py",
   "mimetype": "text/x-python",
   "name": "python",
   "nbconvert_exporter": "python",
   "pygments_lexer": "ipython3",
   "version": "3.7.0"
  }
 },
 "nbformat": 4,
 "nbformat_minor": 2
}
