{
 "cells": [
  {
   "cell_type": "markdown",
   "metadata": {},
   "source": [
    "Pisanie programu w języku Python wersji 3.6 oraz w nowszych, rozpoczynamy od zaimportowania potrzebnych bibliotek. "
   ]
  },
  {
   "cell_type": "code",
   "execution_count": 18,
   "metadata": {},
   "outputs": [],
   "source": [
    "# DEKLARACJA BIBLIOTEK\n",
    "import numpy as np    #obliczenia numeryczne, operacje na macierzach\n",
    "from math import sin, cos, pi    #funkcje uzyte do wymuszen, wartosc liczby Pi\n",
    "from scipy.linalg import eigh         #analiza harmoniczna \n",
    "from numpy.linalg import inv          #odwracanie macierzy   \n",
    "from matplotlib import pyplot as plot #rysowanie wykresow\n"
   ]
  },
  {
   "cell_type": "code",
   "execution_count": 19,
   "metadata": {},
   "outputs": [],
   "source": [
    "#Dane drogi:\n",
    "\n",
    "a1 = 0.5\n",
    "a2 = 0.05\n"
   ]
  },
  {
   "cell_type": "code",
   "execution_count": 20,
   "metadata": {},
   "outputs": [],
   "source": [
    "# Funkcje wlasne\n",
    "\n",
    "# Zdefiniowanie parametrow\n",
    "\n",
    "# Budowanie macierzy\n",
    "\n",
    "# Numeryczne calkowanie rownan ruchu\n",
    "\n",
    "# Wizualizacja wynikow"
   ]
  },
  {
   "cell_type": "code",
   "execution_count": 21,
   "metadata": {},
   "outputs": [],
   "source": [
    "# Funkcje wlasne\n",
    "def profil_drogi(a1, a2, T1, T2, v, T, phase):\n",
    "    #Zwraca funkcje poliharmoniczna na podstawie wektora czasu\n",
    "    #Input:    a1,T1 - amplituda i okres pierwszej skladowej wymuszenia\n",
    "    #          a2,T2 - amplituda i okres drugiej skladowej wymuszenia\n",
    "    #          v     - predkosc pojazdu\n",
    "    #          ds, dt- krok dla czasu i dla drogi\n",
    "    #          T     - wektor czasu symulacji\n",
    "    result = np.zeros(( np.size(T)))     #tworzenie macierzy wynikowej\n",
    "    #przypisywanie profilu drogi z uwzględnieniem plaskiego poczatku\n",
    "    \n",
    "    \n",
    "    for i in range(np.size(T)- 1 - phase):\n",
    "        if (T[i] < T1):\n",
    "            result[i + phase] = 0\n",
    "        else:\n",
    "            result[i + phase] = a1* sin(2* pi/T1*T[i]) + a2* sin (2*pi/T2*T[i])\n",
    "    return result"
   ]
  },
  {
   "cell_type": "code",
   "execution_count": 22,
   "metadata": {},
   "outputs": [],
   "source": [
    "# Zdefiniowanie parametrow\n",
    "Mzred = 900\n",
    "Jzred = 200\n",
    "k = 12500\n",
    "b = 200\n",
    "L1 = 0.45\n",
    "L2 = 1.35 \n",
    "dof = 2\n",
    "vkm = 10.0 #predkosc pojazdu\n",
    "t0 = 0.0   #poczatek symulacji\n",
    "tk = 60.0 #koniec symulacji\n",
    "ds = 0.01 #kork podziału drogi"
   ]
  },
  {
   "cell_type": "code",
   "execution_count": 23,
   "metadata": {},
   "outputs": [],
   "source": [
    "v = vkm * 1000 / 3600\n",
    "#print(v)\n",
    "dt = ds / v\n",
    "#print(dt)"
   ]
  },
  {
   "cell_type": "code",
   "execution_count": null,
   "metadata": {},
   "outputs": [],
   "source": []
  },
  {
   "cell_type": "code",
   "execution_count": 24,
   "metadata": {},
   "outputs": [],
   "source": [
    "T = np.arange(t0, tk+dt, dt, dtype = float )\n",
    "#print(T)\n",
    "T[-1] = tk\n",
    "#print(T)\n",
    "#print(np.size(T))"
   ]
  },
  {
   "cell_type": "code",
   "execution_count": null,
   "metadata": {},
   "outputs": [],
   "source": []
  },
  {
   "cell_type": "code",
   "execution_count": 25,
   "metadata": {},
   "outputs": [],
   "source": [
    "phase = round ((L2-L1)/ds)\n",
    "#print(phase)"
   ]
  },
  {
   "cell_type": "code",
   "execution_count": null,
   "metadata": {},
   "outputs": [],
   "source": []
  },
  {
   "cell_type": "code",
   "execution_count": null,
   "metadata": {},
   "outputs": [],
   "source": []
  },
  {
   "cell_type": "code",
   "execution_count": null,
   "metadata": {},
   "outputs": [],
   "source": []
  },
  {
   "cell_type": "code",
   "execution_count": 26,
   "metadata": {},
   "outputs": [],
   "source": [
    "M = np.array([ [Mzred, 0],[ 0, Jzred] ])\n",
    "K = np.array( [[4 * k, 0],[0, 2*k * (L1**2) + 2*k * (L2**2)  ]] )\n",
    "B = np.array( [[4 * b, 0],[0, 2*b * (L1**2) + 2*b * (L2**2)  ]] )\n",
    "\n",
    "I = np.identity(dof)    #macierz diagonalna z jedynkami"
   ]
  },
  {
   "cell_type": "code",
   "execution_count": 27,
   "metadata": {},
   "outputs": [
    {
     "name": "stdout",
     "output_type": "stream",
     "text": [
      "Macierz A: \n",
      "[M, 0, 0, 0]\n",
      "[0, J, 0, 0]\n",
      "[0, 0, 1, 0]\n",
      "[0, 0, 0, 1]\n",
      ":\n",
      "\n",
      " [[900.   0.   0.   0.]\n",
      " [  0. 200.   0.   0.]\n",
      " [  0.   0.   1.   0.]\n",
      " [  0.   0.   0.   1.]] \n",
      "\n",
      "\n",
      "[[ 8.0000e+02  0.0000e+00  5.0000e+04  0.0000e+00]\n",
      " [ 0.0000e+00  8.1000e+02  0.0000e+00  5.0625e+04]\n",
      " [-1.0000e+00 -0.0000e+00  0.0000e+00  0.0000e+00]\n",
      " [-0.0000e+00 -1.0000e+00  0.0000e+00  0.0000e+00]]\n",
      "[[0.]\n",
      " [0.]\n",
      " [0.]\n",
      " [0.]]\n"
     ]
    }
   ],
   "source": [
    "#Zlozenie macierzy\n",
    "A = np.zeros((2*dof,2*dof))\n",
    "A[0:2, 0:2] = M\n",
    "A[2:4, 2:4] = I\n",
    "\n",
    "C = np.zeros((2*dof,2*dof))\n",
    "C[0:2, 0:2] = B\n",
    "C[0:2, 2:4] = K\n",
    "C[2:4, 0:2] = -I\n",
    "\n",
    "Y = np.zeros((2*dof,1))\n",
    "print(\"Macierz A: \\n[M, 0, 0, 0]\\n[0, J, 0, 0]\\n[0, 0, 1, 0]\\n[0, 0, 0, 1]\\n:\\n\\n\",A,'\\n\\n')\n",
    "print(C)\n",
    "print(Y)"
   ]
  },
  {
   "cell_type": "code",
   "execution_count": null,
   "metadata": {},
   "outputs": [],
   "source": []
  },
  {
   "cell_type": "code",
   "execution_count": 28,
   "metadata": {},
   "outputs": [],
   "source": [
    "Y1 = np.zeros((T.size,), dtype = float)\n",
    "Y2 = np.zeros((T.size,), dtype = float)\n",
    "Y3 = np.zeros((T.size,), dtype = float)\n",
    "Y4 = np.zeros((T.size,), dtype = float)"
   ]
  },
  {
   "cell_type": "code",
   "execution_count": 29,
   "metadata": {},
   "outputs": [],
   "source": [
    "Y1 = profil_drogi(a1, a2, 10, 1 , v, T, 0)\n",
    "#print(Y1)\n",
    "Y2 = profil_drogi(a1, a2, 10, 1 , v, T,1 * phase )\n",
    "#print(Y2)\n",
    "Y3 = profil_drogi(a1, a2, 10, 1 , v, T,2 * phase )\n",
    "#print(Y3)\n",
    "Y4 = profil_drogi(a1, a2, 10, 1 , v, T,3 * phase )\n",
    "#print(Y4)"
   ]
  },
  {
   "cell_type": "code",
   "execution_count": 30,
   "metadata": {},
   "outputs": [],
   "source": [
    "#Wyznaczenie pochodnych wymuszen\n",
    "dY1 =np.zeros(Y1.size) \n",
    "dY2 =np.zeros(Y1.size)\n",
    "dY3 =np.zeros(Y1.size)\n",
    "dY4 =np.zeros(Y1.size)\n",
    "for i in range(Y1.size-1):\n",
    "    dY1[i] =( Y1[i+1] - Y1[i] ) / dt\n",
    "    dY2[i] =( Y2[i+1] - Y2[i] ) / dt\n",
    "    dY3[i] =( Y3[i+1] - Y3[i] ) / dt\n",
    "    dY4[i] =( Y4[i+1] - Y4[i] ) / dt   "
   ]
  },
  {
   "cell_type": "code",
   "execution_count": 31,
   "metadata": {},
   "outputs": [],
   "source": [
    "#Wektor wymuszen\n",
    "F = np.zeros((2, Y1.size))\n",
    "#print(F)\n",
    "iter = 0\n",
    "for t in T:\n",
    "    #Dla przemieszczenia pionowego:\n",
    "    F[0][iter] = b*(dY1[iter] + dY2[iter] + dY3[iter] + dY4[iter])+ k*(Y1[iter] + Y2[iter] + Y3[iter] + Y4[iter] )\n",
    "    #Dla przechylenia wzdłużnego:\n",
    "    F[1][iter] = b*(-dY1[iter] * L1 -dY2[iter] * L2 + dY3[iter] * L2 + dY4[iter] * L1) + k*(-Y1[iter] * L1 - Y2[iter] * L2 + Y3[iter]  * L1 + Y4[iter] * L1) \n",
    "    iter = iter + 1\n"
   ]
  },
  {
   "cell_type": "code",
   "execution_count": 32,
   "metadata": {},
   "outputs": [],
   "source": [
    "#Wektor zerowy do uzupelnienia macierzy wymuszen\n",
    "Z_2 = np.zeros((dof, 1), dtype = int)\n",
    "#print(Z_2)"
   ]
  },
  {
   "cell_type": "code",
   "execution_count": 33,
   "metadata": {},
   "outputs": [
    {
     "name": "stdout",
     "output_type": "stream",
     "text": [
      "[[0.00111111 0.         0.         0.        ]\n",
      " [0.         0.005      0.         0.        ]\n",
      " [0.         0.         1.         0.        ]\n",
      " [0.         0.         0.         1.        ]]\n",
      "(4, 4)\n"
     ]
    }
   ],
   "source": [
    "invA = inv(A)\n",
    "print(invA)\n",
    "print(invA.shape)\n",
    "invA=np.squeeze(invA)\n",
    "C = np.squeeze(C)"
   ]
  },
  {
   "cell_type": "code",
   "execution_count": 35,
   "metadata": {},
   "outputs": [
    {
     "name": "stdout",
     "output_type": "stream",
     "text": [
      "16668\n",
      "16668\n",
      "16668\n"
     ]
    }
   ],
   "source": [
    "#Calkowanie numeryczne rownan ruchu\n",
    "D = np.zeros((2*dof,1))\n",
    "#print(D)\n",
    "iter = 0    #liczba iteracji dla wymuszenia\n",
    "\n",
    "#wyniki \n",
    "z = []\n",
    "fi =[]\n",
    "\n",
    "for t in T:\n",
    "    #Wymuszenia dla danej iteracji\n",
    "    D[0,0] = F[0, iter]\n",
    "    D[1,0] = F[1, iter]\n",
    "    #Rownanie\n",
    "    #e1 = D - C.dot(Y) \n",
    "    #print(e1.shape)\n",
    "    #e1 = np.squeeze(e1)\n",
    "    #print(e1.shape)\n",
    "    #print(invA.shape)\n",
    "    #e2 = invA.dot(e1)\n",
    "    Y_new = Y + dt * invA.dot( D - C.dot(Y) )\n",
    "    Y = Y_new\n",
    "    \n",
    "    #przypisanie wynikow\n",
    "    # 0 predkosc z\n",
    "    # 1 predkosc fi\n",
    "    # 2 przemieszczenie z\n",
    "    # 3 przemieszczenie fi\n",
    "    z.extend(Y[2])\n",
    "    fi.extend(Y[3])\n",
    "    iter += 1\n",
    "    \n",
    "print(T.size)\n",
    "print(len(z))\n",
    "print(len(fi))"
   ]
  },
  {
   "cell_type": "code",
   "execution_count": 37,
   "metadata": {},
   "outputs": [],
   "source": [
    "%matplotlib qt\n",
    "fig, ax = plot.subplots()\n",
    "ax.plot(T, z, label='Z')\n",
    "ax.plot(T, fi, label='Fi')\n",
    "\n",
    "ax.axis('equal')\n",
    "ax.set(xlabel='Czas (s)', ylabel='Przemieszczenie pionowe (m)',\n",
    "       title='Profil drogi')\n",
    "ax.grid()\n",
    "fig.savefig(\"test.png\")\n",
    "legend = ax.legend(loc='upper right', shadow=True, fontsize='x-large')\n",
    "plot.show()"
   ]
  },
  {
   "cell_type": "code",
   "execution_count": null,
   "metadata": {},
   "outputs": [],
   "source": []
  },
  {
   "cell_type": "code",
   "execution_count": null,
   "metadata": {},
   "outputs": [],
   "source": []
  },
  {
   "cell_type": "code",
   "execution_count": null,
   "metadata": {},
   "outputs": [],
   "source": []
  },
  {
   "cell_type": "code",
   "execution_count": null,
   "metadata": {},
   "outputs": [],
   "source": []
  },
  {
   "cell_type": "code",
   "execution_count": null,
   "metadata": {},
   "outputs": [],
   "source": []
  },
  {
   "cell_type": "code",
   "execution_count": 123,
   "metadata": {},
   "outputs": [
    {
     "data": {
      "image/png": "[encoded data removed]",
      "text/plain": [
       "<Figure size 432x288 with 1 Axes>"
      ]
     },
     "metadata": {
      "needs_background": "light"
     },
     "output_type": "display_data"
    }
   ],
   "source": [
    "fig, ax = plot.subplots()\n",
    "ax.plot(T, Y1, label='Y1')\n",
    "ax.plot(T, Y2, label='Y2')\n",
    "ax.plot(T, Y3, label='Y3')\n",
    "ax.plot(T, Y4, label='Y4')\n",
    "ax.axis('equal')\n",
    "ax.set(xlabel='Czas (s)', ylabel='Przemieszczenie pionowe (m)',\n",
    "       title='Profil drogi')\n",
    "ax.grid()\n",
    "fig.savefig(\"test.png\")\n",
    "legend = ax.legend(loc='upper right', shadow=True, fontsize='x-large')\n",
    "plot.show()"
   ]
  },
  {
   "cell_type": "code",
   "execution_count": 124,
   "metadata": {},
   "outputs": [],
   "source": [
    "iterat = 0\n",
    "A_inv = inv(A)"
   ]
  },
  {
   "cell_type": "code",
   "execution_count": 19,
   "metadata": {},
   "outputs": [
    {
     "ename": "NameError",
     "evalue": "name 'Y' is not defined",
     "output_type": "error",
     "traceback": [
      "\u001b[1;31m---------------------------------------------------------------------------\u001b[0m",
      "\u001b[1;31mNameError\u001b[0m                                 Traceback (most recent call last)",
      "\u001b[1;32m<ipython-input-19-8ac2dda522d4>\u001b[0m in \u001b[0;36m<module>\u001b[1;34m()\u001b[0m\n\u001b[0;32m      1\u001b[0m \u001b[1;32mfor\u001b[0m \u001b[0mt\u001b[0m \u001b[1;32min\u001b[0m \u001b[0mT\u001b[0m\u001b[1;33m:\u001b[0m\u001b[1;33m\u001b[0m\u001b[0m\n\u001b[1;32m----> 2\u001b[1;33m     \u001b[0mY_new\u001b[0m \u001b[1;33m=\u001b[0m \u001b[0mY\u001b[0m \u001b[1;33m+\u001b[0m \u001b[0mdt\u001b[0m \u001b[1;33m*\u001b[0m \u001b[0mA_in\u001b[0m\u001b[1;33m\u001b[0m\u001b[0m\n\u001b[0m",
      "\u001b[1;31mNameError\u001b[0m: name 'Y' is not defined"
     ]
    }
   ],
   "source": [
    "for t in T:\n",
    "    Y_new = Y + dt * A_in"
   ]
  },
  {
   "cell_type": "code",
   "execution_count": null,
   "metadata": {},
   "outputs": [],
   "source": []
  },
  {
   "cell_type": "code",
   "execution_count": null,
   "metadata": {},
   "outputs": [],
   "source": []
  }
 ],
 "metadata": {
  "kernelspec": {
   "display_name": "Python 3",
   "language": "python",
   "name": "python3"
  },
  "language_info": {
   "codemirror_mode": {
    "name": "ipython",
    "version": 3
   },
   "file_extension": ".py",
   "mimetype": "text/x-python",
   "name": "python",
   "nbconvert_exporter": "python",
   "pygments_lexer": "ipython3",
   "version": "3.7.0"
  }
 },
 "nbformat": 4,
 "nbformat_minor": 2
}
